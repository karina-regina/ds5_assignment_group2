{
 "cells": [
  {
   "cell_type": "code",
   "execution_count": 13,
   "metadata": {},
   "outputs": [],
   "source": [
    "#Exercise 1 (part 1)\n",
    "\n",
    "def read_csv_file(input):\n",
    "    '''this function uses dictreader to create an object that operates like a regular reader but maps the information in each row to a dictionary; the for loop adds the data from the csv file to an empty list - to be used later in calculations'''\n",
    "    file_path = input(\"Enter the path to the CSV file: \") \n",
    "    records = [] \n",
    "    with open(file_path, 'r') as file:\n",
    "        csv_reader = csv.DictReader(file)\n",
    "        for row in csv_reader:\n",
    "            records.append(row)"
   ]
  },
  {
   "cell_type": "code",
   "execution_count": 14,
   "metadata": {},
   "outputs": [],
   "source": [
    "#Exercise 1 (part 2)\n",
    "\n",
    "def average_grade_calculator(records):\n",
    "    '''this function takes as input the records that were read earlier: it sums the (transformed float) data from the records list in the grade column, and divide by the length of the list to then print the average grade'''\n",
    "    total = sum(float(record['Grade']) for record in records)\n",
    "    average = total / len(records)\n",
    "    return average"
   ]
  },
  {
   "cell_type": "code",
   "execution_count": 15,
   "metadata": {},
   "outputs": [],
   "source": [
    "#Exercise 1 (part 3)\n",
    "\n",
    "def filtering_function(records):\n",
    "    '''this function uses the entire row in the records list to filter students who got a grade above 80, and then prints for each 'filtered' entry the name and grade'''\n",
    "    filtered_records = [record for record in records if float(record['Grade']) >= 80.0]\n",
    "    print(\"Student Report\")\n",
    "    print(\"--------------\")\n",
    "    for record in filtered_records:\n",
    "        print(f\"Name: {record['Name']}\")\n",
    "        print(f\"Grade: {record['Grade']}\")\n",
    "        print(\"--------------------\")"
   ]
  },
  {
   "cell_type": "code",
   "execution_count": 16,
   "metadata": {},
   "outputs": [
    {
     "name": "stdout",
     "output_type": "stream",
     "text": [
      "0\n",
      "1\n",
      "2\n",
      "5\n",
      "26\n",
      "677\n",
      "458330\n",
      "210066388901\n",
      "44127887745906175987802\n",
      "1947270476915296449559703445493848930452791205\n"
     ]
    }
   ],
   "source": [
    "#Exercise 2 (part 1) - generating a sequence\n",
    "\n",
    "def a(order,c):\n",
    "    '''this function generates the number that is asked for in the input: the 'order'th mandelbrot number with the constant c specified'''\n",
    "    if order==0:\n",
    "        return 0 #this is a given\n",
    "    elif order==1:\n",
    "        return c #this is used to initialize other mandelbrot numbers, so the order input needs to be an integer strictly higher than 1\n",
    "    else:\n",
    "        return a(order-1,c)**2+c\n",
    "\n",
    "#checking\n",
    "for order in range(10):\n",
    "    print(a(order, c=1))\n"
   ]
  },
  {
   "cell_type": "code",
   "execution_count": 17,
   "metadata": {},
   "outputs": [
    {
     "name": "stdout",
     "output_type": "stream",
     "text": [
      "for -1: True, \n",
      " for 0: True, \n",
      " for 1: False\n"
     ]
    }
   ],
   "source": [
    "#Exercise 2 (part 2) - checking to see if numbers satisfy mandelbrot condition\n",
    "\n",
    "#we assume the sequence diverges to infinity if abs(a) is more than 2\n",
    "def check_mandelbrot(c):\n",
    "    truth=1\n",
    "    for order in range (10):\n",
    "        #print(a(order,c)) #this is a nice way to check by hand if the sequence diverges, but in the end the boolean value also gives the answer\n",
    "        if abs(a(order,c))>2:\n",
    "            truth=0\n",
    "            break\n",
    "    return truth==1\n",
    "\n",
    "#checking\n",
    "print(f'for -1: {check_mandelbrot(-1)}, \\n for 0: {check_mandelbrot(0)}, \\n for 1: {check_mandelbrot(1)}')"
   ]
  },
  {
   "cell_type": "code",
   "execution_count": 57,
   "metadata": {},
   "outputs": [
    {
     "ename": "AttributeError",
     "evalue": "'list' object has no attribute 'real'",
     "output_type": "error",
     "traceback": [
      "\u001b[1;31m---------------------------------------------------------------------------\u001b[0m",
      "\u001b[1;31mAttributeError\u001b[0m                            Traceback (most recent call last)",
      "\u001b[1;32mc:\\Users\\Karina\\Desktop\\data science\\ds5_assignment_group2\\Week2Assignment.ipynb Cell 6\u001b[0m line \u001b[0;36m2\n\u001b[0;32m     <a href='vscode-notebook-cell:/c%3A/Users/Karina/Desktop/data%20science/ds5_assignment_group2/Week2Assignment.ipynb#W5sZmlsZQ%3D%3D?line=17'>18</a>\u001b[0m     plt\u001b[39m.\u001b[39mylabel(\u001b[39m\"\u001b[39m\u001b[39mimaginary axis\u001b[39m\u001b[39m\"\u001b[39m)\n\u001b[0;32m     <a href='vscode-notebook-cell:/c%3A/Users/Karina/Desktop/data%20science/ds5_assignment_group2/Week2Assignment.ipynb#W5sZmlsZQ%3D%3D?line=18'>19</a>\u001b[0m     plt\u001b[39m.\u001b[39mshow()\n\u001b[1;32m---> <a href='vscode-notebook-cell:/c%3A/Users/Karina/Desktop/data%20science/ds5_assignment_group2/Week2Assignment.ipynb#W5sZmlsZQ%3D%3D?line=20'>21</a>\u001b[0m draw_mandel(\u001b[39m200\u001b[39m)\n",
      "\u001b[1;32mc:\\Users\\Karina\\Desktop\\data science\\ds5_assignment_group2\\Week2Assignment.ipynb Cell 6\u001b[0m line \u001b[0;36m1\n\u001b[0;32m     <a href='vscode-notebook-cell:/c%3A/Users/Karina/Desktop/data%20science/ds5_assignment_group2/Week2Assignment.ipynb#W5sZmlsZQ%3D%3D?line=11'>12</a>\u001b[0m         \u001b[39mif\u001b[39;00m check_mandelbrot(c)\u001b[39m==\u001b[39m\u001b[39mTrue\u001b[39;00m:\n\u001b[0;32m     <a href='vscode-notebook-cell:/c%3A/Users/Karina/Desktop/data%20science/ds5_assignment_group2/Week2Assignment.ipynb#W5sZmlsZQ%3D%3D?line=12'>13</a>\u001b[0m             mandelbrot_set\u001b[39m.\u001b[39mappend(c)\n\u001b[1;32m---> <a href='vscode-notebook-cell:/c%3A/Users/Karina/Desktop/data%20science/ds5_assignment_group2/Week2Assignment.ipynb#W5sZmlsZQ%3D%3D?line=14'>15</a>\u001b[0m plt\u001b[39m.\u001b[39mscatter (mandelbrot_set\u001b[39m.\u001b[39mreal, mandelbrot_set\u001b[39m.\u001b[39mimag)\n\u001b[0;32m     <a href='vscode-notebook-cell:/c%3A/Users/Karina/Desktop/data%20science/ds5_assignment_group2/Week2Assignment.ipynb#W5sZmlsZQ%3D%3D?line=15'>16</a>\u001b[0m plt\u001b[39m.\u001b[39mpcolormesh(x_domain, y_domain, mandelbrot_set, cmap \u001b[39m=\u001b[39m \u001b[39m'\u001b[39m\u001b[39mblack\u001b[39m\u001b[39m'\u001b[39m)\n\u001b[0;32m     <a href='vscode-notebook-cell:/c%3A/Users/Karina/Desktop/data%20science/ds5_assignment_group2/Week2Assignment.ipynb#W5sZmlsZQ%3D%3D?line=16'>17</a>\u001b[0m plt\u001b[39m.\u001b[39mxlabel(\u001b[39m\"\u001b[39m\u001b[39mreal axis\u001b[39m\u001b[39m\"\u001b[39m)\n",
      "\u001b[1;31mAttributeError\u001b[0m: 'list' object has no attribute 'real'"
     ]
    }
   ],
   "source": [
    "#Exercise 2 (part 3) - plotting the numbers that satisfy mandelbrot condition\n",
    "\n",
    "def draw_mandel(width):\n",
    "    '''this function creates a meshgrid of the two domains given for the axes, then checks for mandelbrot numbers in the interval and plots them'''\n",
    "    x_domain=np.linspace(-1.5,0.5,width)\n",
    "    y_domain=np.linspace(-1,1,width)\n",
    "\n",
    "    mandelbrot_set=[]\n",
    "    for y in y_domain.tolist():\n",
    "        for x in x_domain.tolist():\n",
    "            c=complex(x,y)\n",
    "            if check_mandelbrot(c)==True:\n",
    "                mandelbrot_set.append(c)\n",
    "\n",
    "    #plt.scatter (mandelbrot_set.real, mandelbrot_set.imag)\n",
    "    plt.pcolormesh(x_domain, y_domain, mandelbrot_set, cmap = 'black')\n",
    "    plt.xlabel(\"real axis\")\n",
    "    plt.ylabel(\"imaginary axis\")\n",
    "    plt.show()\n",
    "\n",
    "draw_mandel(200)"
   ]
  }
 ],
 "metadata": {
  "kernelspec": {
   "display_name": "base",
   "language": "python",
   "name": "python3"
  },
  "language_info": {
   "codemirror_mode": {
    "name": "ipython",
    "version": 3
   },
   "file_extension": ".py",
   "mimetype": "text/x-python",
   "name": "python",
   "nbconvert_exporter": "python",
   "pygments_lexer": "ipython3",
   "version": "3.11.4"
  },
  "orig_nbformat": 4
 },
 "nbformat": 4,
 "nbformat_minor": 2
}
