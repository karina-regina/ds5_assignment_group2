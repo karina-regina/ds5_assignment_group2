{
 "cells": [
  {
   "cell_type": "code",
   "execution_count": 1,
   "metadata": {},
   "outputs": [],
   "source": [
    "#Exercise 1 (part 1)\n",
    "\n",
    "def read_csv_file(input):\n",
    "    '''this function uses dictreader to create an object that operates like a regular reader but maps the information in each row to a dictionary; the for loop adds the data from the csv file to an empty list - to be used later in calculations'''\n",
    "    file_path = input(\"Enter the path to the CSV file: \") \n",
    "    records = [] \n",
    "    with open(file_path, 'r') as file:\n",
    "        csv_reader = csv.DictReader(file)\n",
    "        for row in csv_reader:\n",
    "            records.append(row)"
   ]
  },
  {
   "cell_type": "code",
   "execution_count": 2,
   "metadata": {},
   "outputs": [],
   "source": [
    "#Exercise 1 (part 2)\n",
    "\n",
    "def average_grade_calculator(records):\n",
    "    '''this function takes as input the records that were read earlier: it sums the (transformed float) data from the records list in the grade column, and divide by the length of the list to then print the average grade'''\n",
    "    total = sum(float(record['Grade']) for record in records)\n",
    "    average = total / len(records)\n",
    "    return average"
   ]
  },
  {
   "cell_type": "code",
   "execution_count": 3,
   "metadata": {},
   "outputs": [],
   "source": [
    "#Exercise 1 (part 3)\n",
    "\n",
    "def filtering_function(records):\n",
    "    '''this function uses the entire row in the records list to filter students who got a grade above 80, and then prints for each 'filtered' entry the name and grade'''\n",
    "    filtered_records = [record for record in records if float(record['Grade']) >= 80.0]\n",
    "    print(\"Student Report\")\n",
    "    print(\"--------------\")\n",
    "    for record in filtered_records:\n",
    "        print(f\"Name: {record['Name']}\")\n",
    "        print(f\"Grade: {record['Grade']}\")\n",
    "        print(\"--------------------\")"
   ]
  },
  {
   "cell_type": "code",
   "execution_count": 25,
   "metadata": {},
   "outputs": [
    {
     "name": "stdout",
     "output_type": "stream",
     "text": [
      "0\n",
      "1\n",
      "2\n",
      "5\n",
      "26\n",
      "677\n",
      "458330\n",
      "210066388901\n",
      "44127887745906175987802\n",
      "1947270476915296449559703445493848930452791205\n"
     ]
    }
   ],
   "source": [
    "#Exercise 2 (part 1) - generating a sequence\n",
    "\n",
    "def a(order,c):\n",
    "    '''this function generates the number that is asked for in the input: the 'order'th mandelbrot number with the constant c specified'''\n",
    "    if order==0:\n",
    "        return 0 #this is a given\n",
    "    elif order==1:\n",
    "        return c #this is used to initialize other mandelbrot numbers, so the order input needs to be an integer strictly higher than 1\n",
    "    else:\n",
    "        return a(order-1,c)**2+c\n",
    "\n",
    "#checking\n",
    "for order in range(10):\n",
    "    print(a(order, c=1))\n"
   ]
  },
  {
   "cell_type": "code",
   "execution_count": 71,
   "metadata": {},
   "outputs": [
    {
     "name": "stdout",
     "output_type": "stream",
     "text": [
      "for -1: True, \n",
      " for 0: True, \n",
      " for 1: False\n"
     ]
    }
   ],
   "source": [
    "#Exercise 2 (part 2) - checking to see if numbers satisfy mandelbrot condition\n",
    "\n",
    "#we assume the sequence diverges to infinity if abs(a) is more than 2\n",
    "def check_mandelbrot(c):\n",
    "    truth=1\n",
    "    for order in range (10):\n",
    "        #print(a(order,c)) #this is a nice way to check by hand if the sequence diverges, but in the end the boolean value also gives the answer\n",
    "        if abs(a(order,c))>2:\n",
    "            truth=0\n",
    "            break\n",
    "    return truth==1\n",
    "\n",
    "#checking\n",
    "print(f'for -1: {check_mandelbrot(-1)}, \\n for 0: {check_mandelbrot(0)}, \\n for 1: {check_mandelbrot(1)}')"
   ]
  },
  {
   "cell_type": "code",
   "execution_count": null,
   "metadata": {},
   "outputs": [],
   "source": [
    "#Exercise 2 (part 3) - plotting the numbers that satisfy mandelbort condition\n",
    "\n"
   ]
  }
 ],
 "metadata": {
  "kernelspec": {
   "display_name": "base",
   "language": "python",
   "name": "python3"
  },
  "language_info": {
   "codemirror_mode": {
    "name": "ipython",
    "version": 3
   },
   "file_extension": ".py",
   "mimetype": "text/x-python",
   "name": "python",
   "nbconvert_exporter": "python",
   "pygments_lexer": "ipython3",
   "version": "3.11.4"
  },
  "orig_nbformat": 4
 },
 "nbformat": 4,
 "nbformat_minor": 2
}
