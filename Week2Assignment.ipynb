{
 "cells": [
  {
   "cell_type": "code",
   "execution_count": 1,
   "metadata": {},
   "outputs": [],
   "source": [
    "#Exercise 1 (part 1)\n",
    "\n",
    "def read_csv_file(input):\n",
    "    '''this function uses dictreader to create an object that operates like a regular reader but maps the information in each row to a dictionary; the for loop adds the data from the csv file to an empty list - to be used later in calculations'''\n",
    "    file_path = input(\"Enter the path to the CSV file: \") \n",
    "    records = [] \n",
    "    with open(file_path, 'r') as file:\n",
    "        csv_reader = csv.DictReader(file)\n",
    "        for row in csv_reader:\n",
    "            records.append(row)"
   ]
  },
  {
   "cell_type": "code",
   "execution_count": 2,
   "metadata": {},
   "outputs": [],
   "source": [
    "#Exercise 1 (part 2)\n",
    "\n",
    "def average_grade_calculator(records):\n",
    "    '''this function takes as input the records that were read earlier: it sums the (transformed float) data from the records list in the grade column, and divide by the length of the list to then print the average grade'''\n",
    "    total = sum(float(record['Grade']) for record in records)\n",
    "    average = total / len(records)\n",
    "    return average"
   ]
  },
  {
   "cell_type": "code",
   "execution_count": 3,
   "metadata": {},
   "outputs": [],
   "source": [
    "#Exercise 1 (part 3)\n",
    "\n",
    "def filtering_function(records):\n",
    "    '''this function uses the entire row in the records list to filter students who got a grade above 80, and then prints for each 'filtered' entry the name and grade'''\n",
    "    filtered_records = [record for record in records if float(record['Grade']) >= 80.0]\n",
    "    print(\"Student Report\")\n",
    "    print(\"--------------\")\n",
    "    for record in filtered_records:\n",
    "        print(f\"Name: {record['Name']}\")\n",
    "        print(f\"Grade: {record['Grade']}\")\n",
    "        print(\"--------------------\")"
   ]
  },
  {
   "cell_type": "code",
   "execution_count": null,
   "metadata": {},
   "outputs": [],
   "source": [
    "#Exercise 2 (part 1)\n",
    "\n",
    "def a(order, c):\n",
    "    '''this function generates the number that is asked for in the input: the 'order'th mandelbrot number with the constant c specified'''\n",
    "    if order==0:\n",
    "        print('a_0=0')\n",
    "    else:\n",
    "        return a(order-1)**2+c\n",
    "\n"
   ]
  }
 ],
 "metadata": {
  "kernelspec": {
   "display_name": "base",
   "language": "python",
   "name": "python3"
  },
  "language_info": {
   "codemirror_mode": {
    "name": "ipython",
    "version": 3
   },
   "file_extension": ".py",
   "mimetype": "text/x-python",
   "name": "python",
   "nbconvert_exporter": "python",
   "pygments_lexer": "ipython3",
   "version": "3.11.4"
  },
  "orig_nbformat": 4
 },
 "nbformat": 4,
 "nbformat_minor": 2
}
